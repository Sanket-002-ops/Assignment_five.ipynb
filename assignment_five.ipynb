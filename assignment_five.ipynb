{
  "nbformat": 4,
  "nbformat_minor": 0,
  "metadata": {
    "colab": {
      "provenance": [],
      "authorship_tag": "ABX9TyOcBbtjhPsSXr97xh2rkPMP",
      "include_colab_link": true
    },
    "kernelspec": {
      "name": "python3",
      "display_name": "Python 3"
    },
    "language_info": {
      "name": "python"
    }
  },
  "cells": [
    {
      "cell_type": "markdown",
      "metadata": {
        "id": "view-in-github",
        "colab_type": "text"
      },
      "source": [
        "<a href=\"https://colab.research.google.com/github/Sanket-002-ops/Assignment_five.ipynb/blob/main/assignment_five.ipynb\" target=\"_parent\"><img src=\"https://colab.research.google.com/assets/colab-badge.svg\" alt=\"Open In Colab\"/></a>"
      ]
    },
    {
      "cell_type": "code",
      "source": [
        "#Question1: What are the five key concepts of Object-Oriented-Programming(OOP)?"
      ],
      "metadata": {
        "id": "tfLKasST-1JX"
      },
      "execution_count": null,
      "outputs": []
    },
    {
      "cell_type": "markdown",
      "source": [
        "\n",
        "# In OOP (object-oriented programming) concepts in Python include Class, Object, Method, Inheritance, Polymorphism, Data Abstraction, and Encapsulation"
      ],
      "metadata": {
        "id": "BuSygG5XEpo_"
      }
    },
    {
      "cell_type": "code",
      "source": [
        "#Question2: Write a python class for a car with attributes for 'make', 'model', and 'year', include a method to display the car's information."
      ],
      "metadata": {
        "id": "QsY2kriIFeui"
      },
      "execution_count": null,
      "outputs": []
    },
    {
      "cell_type": "code",
      "source": [
        "class Car():\n",
        "\n",
        "    # init method or constructor\n",
        "    def __init__(self, make, model, year):\n",
        "        self.make = make\n",
        "        self.model = model\n",
        "        self.year = year\n",
        "\n",
        "    def show(self):\n",
        "        print(\"Make by\", self.make)\n",
        "        print(\"Model is\", self.model )\n",
        "        print(\"Year in\", self.year )\n",
        "\n",
        "\n",
        "audi = Car(\"TATA\",\"audi a4\", \"2023\")\n",
        "\n",
        "audi.show()"
      ],
      "metadata": {
        "colab": {
          "base_uri": "https://localhost:8080/"
        },
        "id": "udp_AcPVGXh7",
        "outputId": "7922514d-3b86-4243-c3c2-1d8254014608"
      },
      "execution_count": null,
      "outputs": [
        {
          "output_type": "stream",
          "name": "stdout",
          "text": [
            "Make by TATA\n",
            "Model is audi a4\n",
            "Year in 2023\n"
          ]
        }
      ]
    },
    {
      "cell_type": "code",
      "source": [
        "#Question3: Explain the difference between instance methods and class methods. Provide an example of each."
      ],
      "metadata": {
        "id": "nVOP6u1UPdom"
      },
      "execution_count": null,
      "outputs": []
    },
    {
      "cell_type": "markdown",
      "source": [
        "\n",
        "\n",
        "1. #  Instance Method in Python\n",
        "Instance methods are the most common type of methods in Python classes. They are associated with instances of a class and operate on the instance's data. When defining an instance method, the method's first parameter is typically named self, which refers to the instance calling the method. This allows the method to access and manipulate the instance's attributes.\n",
        "\n",
        "\n"
      ],
      "metadata": {
        "id": "uVKB_-n_Q_hd"
      }
    },
    {
      "cell_type": "code",
      "source": [
        "\n",
        "class Person:\n",
        "    def __init__(self, name, age):\n",
        "        self.name = name\n",
        "        self.age = age\n",
        "\n",
        "    def introduce(self):\n",
        "        return f\"Hi, I'm {self.name} and I'm {self.age} years old.\"\n",
        "\n",
        "\n",
        "# Creating an instance of the class\n",
        "person1 = Person(\"Sanket Vishwakarma\", 22)\n",
        "\n",
        "# Calling the instance method\n",
        "print(person1.introduce())"
      ],
      "metadata": {
        "colab": {
          "base_uri": "https://localhost:8080/"
        },
        "id": "7xclSS0gRSXi",
        "outputId": "169ab68f-0069-4444-e97b-8ce88afd078c"
      },
      "execution_count": null,
      "outputs": [
        {
          "output_type": "stream",
          "name": "stdout",
          "text": [
            "Hi, I'm Sanket Vishwakarma and I'm 22 years old.\n"
          ]
        }
      ]
    },
    {
      "cell_type": "markdown",
      "source": [
        "\n",
        "\n",
        "2. #Class Method in Python\n",
        "Class methods are associated with the class rather than instances. They are defined using the @classmethod decorator and take the class itself as the first parameter, usually named cls. Class methods are useful for tasks that involve the class rather than the instance, such as creating class-specific behaviors or modifying class-level attributes.\n",
        "\n",
        "\n",
        "\n"
      ],
      "metadata": {
        "id": "9c8t3IHVRuFv"
      }
    },
    {
      "cell_type": "code",
      "source": [
        "class MyClass:\n",
        "    class_variable = 0\n",
        "\n",
        "    def __init__(self, value):\n",
        "        self.instance_variable = value\n",
        "\n",
        "    @classmethod\n",
        "    def class_method(cls, x):\n",
        "        cls.class_variable += x\n",
        "        return cls.class_variable\n",
        "\n",
        "obj1 = MyClass(5)\n",
        "obj2 = MyClass(10)\n",
        "\n",
        "print(MyClass.class_method(3))\n",
        "print(MyClass.class_method(7))"
      ],
      "metadata": {
        "colab": {
          "base_uri": "https://localhost:8080/"
        },
        "id": "8NxBhBlAR_B-",
        "outputId": "b214cc6a-87ba-4b34-bedf-4e9bed4f0388"
      },
      "execution_count": null,
      "outputs": [
        {
          "output_type": "stream",
          "name": "stdout",
          "text": [
            "3\n",
            "10\n"
          ]
        }
      ]
    },
    {
      "cell_type": "code",
      "source": [
        "#Question4: How does Python implement method overloading?Give an example."
      ],
      "metadata": {
        "id": "BJIPY0FuSgGj"
      },
      "execution_count": null,
      "outputs": []
    },
    {
      "cell_type": "markdown",
      "source": [
        "\n",
        "\n",
        "*   Method Overloading:\n",
        "\n",
        "Two or more methods have the same name but different numbers of parameters or different types of parameters, or both. These methods are called overloaded methods and this is called method overloading.\n",
        "\n"
      ],
      "metadata": {
        "id": "FzL0IDmwUWo2"
      }
    },
    {
      "cell_type": "code",
      "source": [
        "# First product method.\n",
        "# Takes two argument and print their\n",
        "# product\n",
        "\n",
        "\n",
        "def product(a, b):\n",
        "    p = a * b\n",
        "    print(p)\n",
        "\n",
        "# Second product method\n",
        "# Takes three argument and print their\n",
        "# product\n",
        "\n",
        "\n",
        "def product(a, b, c):\n",
        "    p = a * b*c\n",
        "    print(p)\n",
        "\n",
        "# Uncommenting the below line shows an error\n",
        "# product(4, 5)\n",
        "\n",
        "\n",
        "# This line will call the second product method\n",
        "product(4, 5, 5)"
      ],
      "metadata": {
        "colab": {
          "base_uri": "https://localhost:8080/"
        },
        "id": "ghIwtelAUci_",
        "outputId": "3de7640b-fe7b-4996-d4f2-075584d0dce9"
      },
      "execution_count": null,
      "outputs": [
        {
          "output_type": "stream",
          "name": "stdout",
          "text": [
            "100\n"
          ]
        }
      ]
    },
    {
      "cell_type": "code",
      "source": [
        "#Question5: What are the three type of access modifiers in Python? How are they denoted?"
      ],
      "metadata": {
        "id": "tH7UoFFFVpRK"
      },
      "execution_count": null,
      "outputs": []
    },
    {
      "cell_type": "markdown",
      "source": [
        "\n",
        "\n",
        "1.   # Access Modifiers can be categorized as Public, Protected and Private in a python.\n",
        "\n",
        "*   Public Access Modifier: Theoretically, public methods and fields can be accessed directly by any class.\n",
        "\n",
        "*   Protected Access Modifier: Theoretically, protected methods and fields can be accessed within the same class it is declared and its subclass\n",
        "*   Private Access Modifier: Theoretically, private methods and fields can be only accessed within the same class it is declared.\n",
        "\n",
        "\n",
        "\n"
      ],
      "metadata": {
        "id": "jWkU2DdZXKgV"
      }
    },
    {
      "cell_type": "code",
      "source": [
        "#Question6: Describe the five types of inheritance in Python. Provide a simple example of multiple inheritance."
      ],
      "metadata": {
        "id": "HgpuJRwMYLu9"
      },
      "execution_count": null,
      "outputs": []
    },
    {
      "cell_type": "markdown",
      "source": [
        "\n",
        "\n",
        "#Inheritance is defined as the mechanism of inheriting the properties of the base class to the child class.\n",
        "\n",
        "\n",
        "#There are five types of Python inheritance are as follow:\n",
        "*   SINGLE INHERITANCE.   \n",
        "\n",
        "*   MULTIPLE INHERITANCE.\n",
        "\n",
        "*   MULTILEVEL INHERITANCE\n",
        "*   HIERARCHICAL INHERITANCE\n",
        "\n",
        "\n",
        "*   HYBRID INHERITANCE\n",
        "\n",
        "\n",
        "\n",
        "\n"
      ],
      "metadata": {
        "id": "-bD8uwPnZU5m"
      }
    },
    {
      "cell_type": "code",
      "source": [
        "class Mother:\n",
        "    mothername = \"\"\n",
        "\n",
        "    def mother(self):\n",
        "        print(self.mothername)\n",
        "\n",
        "# Base class2\n",
        "\n",
        "\n",
        "class Father:\n",
        "    fathername = \"\"\n",
        "\n",
        "    def father(self):\n",
        "        print(self.fathername)\n",
        "\n",
        "# Derived class\n",
        "\n",
        "\n",
        "class Son(Mother, Father):\n",
        "    def parents(self):\n",
        "        print(\"Father :\", self.fathername)\n",
        "        print(\"Mother :\", self.mothername)\n",
        "\n",
        "\n",
        "# Driver's code\n",
        "s1 = Son()\n",
        "s1.fathername = \"SATYANARAYAN VISHWAKARMA\"\n",
        "s1.mothername = \"VIDYA VISHWAKARMA\"\n",
        "s1.parents()"
      ],
      "metadata": {
        "colab": {
          "base_uri": "https://localhost:8080/"
        },
        "id": "MFsJLQ9HYUWM",
        "outputId": "0149a277-a7e6-444f-ce42-8196dd4e0f13"
      },
      "execution_count": null,
      "outputs": [
        {
          "output_type": "stream",
          "name": "stdout",
          "text": [
            "Father : SATYANARAYAN VISHWAKARMA\n",
            "Mother : VIDYA VISHWAKARMA\n"
          ]
        }
      ]
    },
    {
      "cell_type": "code",
      "source": [
        "#Question7: What is the Method Resolution Order(MRO) in Python? How can you retrieve it programmatically?"
      ],
      "metadata": {
        "id": "1NuNaIEIcr3U"
      },
      "execution_count": null,
      "outputs": []
    },
    {
      "cell_type": "markdown",
      "source": [
        "#Method Resolution Order :\n",
        "Method Resolution Order(MRO) it denotes the way a programming language resolves a method or attribute. Python supports classes inheriting from other classes. The class being inherited is called the Parent or Superclass, while the class that inherits is called the Child or Subclass. In python, method resolution order defines the order in which the base classes are searched when executing a method. First, the method or attribute is searched within a class and then it follows the order we specified while inheriting. This order is also called Linearization of a class and set of rules are called MRO(Method Resolution Order)."
      ],
      "metadata": {
        "id": "MPCYpJkOeUgS"
      }
    },
    {
      "cell_type": "code",
      "source": [
        "#Question8: Create an abstract base class 'shape' with a abstract method 'area()'. Then create two subclasses 'circle' and 'rectangle' that implement the 'area()'method."
      ],
      "metadata": {
        "id": "NjsIzNwuee5d"
      },
      "execution_count": null,
      "outputs": []
    },
    {
      "cell_type": "code",
      "source": [
        "from abc import ABC, abstractmethod\n",
        "class Shape(ABC):\n",
        "    @abstractmethod\n",
        "    def area(self):\n",
        "        pass\n",
        "\n",
        "    def describe(self):\n",
        "        print(f\"This shape has an area of {self.area()}\")\n",
        "class Rectangle(Shape):\n",
        "    def __init__(self, width, height):\n",
        "        self.width = width\n",
        "        self.height = height\n",
        "    def area(self):\n",
        "        return self.width * self.height\n",
        "\n",
        "class Circle(Shape):\n",
        "    def __init__(self, radius):\n",
        "        self.radius = radius\n",
        "    def area(self):\n",
        "        import math\n",
        "        return math.pi * self.radius ** 2\n"
      ],
      "metadata": {
        "id": "2fjaz_6ng1VH"
      },
      "execution_count": null,
      "outputs": []
    },
    {
      "cell_type": "code",
      "source": [
        "rectangle = Rectangle(10,5)\n",
        "print(f\"Area:{rectangle.area()}\")"
      ],
      "metadata": {
        "colab": {
          "base_uri": "https://localhost:8080/"
        },
        "id": "LTFUZviFjlwa",
        "outputId": "5c0d2f1f-afd5-4067-8cfd-8e7c5d25714f"
      },
      "execution_count": null,
      "outputs": [
        {
          "output_type": "stream",
          "name": "stdout",
          "text": [
            "Area:50\n"
          ]
        }
      ]
    },
    {
      "cell_type": "code",
      "source": [
        "circle = Circle(5)\n",
        "print(f\"Area:{circle.area()}\")"
      ],
      "metadata": {
        "colab": {
          "base_uri": "https://localhost:8080/"
        },
        "id": "U4ViEq4Cjlry",
        "outputId": "d9719849-408f-42dc-e25d-7eadb112273e"
      },
      "execution_count": null,
      "outputs": [
        {
          "output_type": "stream",
          "name": "stdout",
          "text": [
            "Area:78.53981633974483\n"
          ]
        }
      ]
    },
    {
      "cell_type": "code",
      "source": [
        "#Question9: Demonstrate polymorphism by creating a function that can work with different shape objects to calculate and print their areas."
      ],
      "metadata": {
        "id": "crMLhsyEjllp"
      },
      "execution_count": null,
      "outputs": []
    },
    {
      "cell_type": "code",
      "source": [
        "class Shape:\n",
        "    def draw(self):\n",
        "        raise NotImplementedError(\"Subclass must implement abstract method\")\n",
        "\n",
        "    def describe(self):\n",
        "        print(f\"This shape has an area of {self.area()}\")\n",
        "class Rectangle(Shape):\n",
        "    def __init__(self, width, height):\n",
        "        self.width = width\n",
        "        self.height = height\n",
        "    def area(self):\n",
        "        return self.width * self.height\n",
        "\n",
        "class Circle(Shape):\n",
        "    def __init__(self, radius):\n",
        "        self.radius = radius\n",
        "    def area(self):\n",
        "        import math\n",
        "        return math.pi * self.radius ** 2"
      ],
      "metadata": {
        "id": "oQd-mrTB_6Jj"
      },
      "execution_count": null,
      "outputs": []
    },
    {
      "cell_type": "code",
      "source": [
        "rectangle = Rectangle(15,9)\n",
        "print(f\"Area:{rectangle.area()}\")"
      ],
      "metadata": {
        "colab": {
          "base_uri": "https://localhost:8080/"
        },
        "id": "yw4M0ePqBzh2",
        "outputId": "a43b47bc-49fb-4853-cf34-2634ebcfa709"
      },
      "execution_count": null,
      "outputs": [
        {
          "output_type": "stream",
          "name": "stdout",
          "text": [
            "Area:135\n"
          ]
        }
      ]
    },
    {
      "cell_type": "code",
      "source": [
        "circle = Circle(8)\n",
        "print(f\"Area:{circle.area()}\")"
      ],
      "metadata": {
        "colab": {
          "base_uri": "https://localhost:8080/"
        },
        "id": "u6hqOHSZBzR-",
        "outputId": "6f343cab-fe6c-43cd-f929-b4c58830bcbb"
      },
      "execution_count": null,
      "outputs": [
        {
          "output_type": "stream",
          "name": "stdout",
          "text": [
            "Area:201.06192982974676\n"
          ]
        }
      ]
    },
    {
      "cell_type": "code",
      "source": [
        "#Question10: Implement encapsulation in a BankAccount class with privat attributes for balance and account_number. Include methods for deposite, withdrawl, and balance inquiry."
      ],
      "metadata": {
        "id": "OaLLmpccjlhe"
      },
      "execution_count": null,
      "outputs": []
    },
    {
      "cell_type": "code",
      "source": [
        "class Bank_Account:\n",
        "    def __init__(self):\n",
        "        self.balance=0\n",
        "        print(\"Hello!!! Welcome to the Deposit & Withdrawal Machine\")\n",
        "\n",
        "    def deposit(self):\n",
        "        amount=float(input(\"Enter amount to be Deposited: \"))\n",
        "        self.balance += amount\n",
        "        print(\"\\n Amount Deposited:\",amount)\n",
        "\n",
        "    def withdraw(self):\n",
        "        amount = float(input(\"Enter amount to be Withdrawn: \"))\n",
        "        if self.balance>=amount:\n",
        "            self.balance-=amount\n",
        "            print(\"\\n You Withdrew:\", amount)\n",
        "        else:\n",
        "            print(\"\\n Insufficient balance  \")\n",
        "\n",
        "    def display(self):\n",
        "        print(\"\\n Net Available Balance=\",self.balance)\n",
        "\n",
        "# Driver code\n",
        "\n",
        "# creating an object of class\n",
        "s = Bank_Account()\n",
        "\n",
        "# Calling functions with that class object\n",
        "s.deposit()\n",
        "s.withdraw()\n",
        "s.display()"
      ],
      "metadata": {
        "id": "H3mxnNR6jlc_",
        "colab": {
          "base_uri": "https://localhost:8080/"
        },
        "outputId": "ea6e321a-5d3f-49e1-8afd-705e1fa9f1c3"
      },
      "execution_count": null,
      "outputs": [
        {
          "output_type": "stream",
          "name": "stdout",
          "text": [
            "Hello!!! Welcome to the Deposit & Withdrawal Machine\n",
            "Enter amount to be Deposited: 50000.0\n",
            "\n",
            " Amount Deposited: 50000.0\n",
            "Enter amount to be Withdrawn: 1000.0\n",
            "\n",
            " You Withdrew: 1000.0\n",
            "\n",
            " Net Available Balance= 49000.0\n"
          ]
        }
      ]
    },
    {
      "cell_type": "code",
      "source": [
        "#Question12: Create a decorator that meassures and prints the executation time of a function."
      ],
      "metadata": {
        "id": "WDt7mSBVHbiA"
      },
      "execution_count": null,
      "outputs": []
    },
    {
      "cell_type": "code",
      "source": [
        "import time\n",
        "\n",
        "def measure_execution_time(func):\n",
        "    def wrapper(*args, **kwargs):\n",
        "        start_time = time.time()\n",
        "        result = func(*args, **kwargs)\n",
        "        end_time = time.time()\n",
        "        execution_time = end_time - start_time\n",
        "        print(f\"Function {func.__name__} took {execution_time:.4f} seconds to execute\")\n",
        "        return result\n",
        "    return wrapper\n",
        "\n",
        "# Example usage\n",
        "@measure_execution_time\n",
        "def calculate_multiply(numbers):\n",
        "    tot = 1\n",
        "    for x in numbers:\n",
        "        tot *= x\n",
        "    return tot\n",
        "\n",
        "# Call the decorated function\n",
        "result = calculate_multiply([1, 2, 3, 4, 5])\n",
        "print(\"Result:\", result)"
      ],
      "metadata": {
        "id": "P-sHReFfjlYQ",
        "colab": {
          "base_uri": "https://localhost:8080/"
        },
        "outputId": "87cb5b9c-8bd4-4007-8050-a8b1564bb63f"
      },
      "execution_count": null,
      "outputs": [
        {
          "output_type": "stream",
          "name": "stdout",
          "text": [
            "Function calculate_multiply took 0.0000 seconds to execute\n",
            "Result: 120\n"
          ]
        }
      ]
    },
    {
      "cell_type": "code",
      "source": [
        "#Question13: Explain the concept of the Diamond Problem in multiple inheritance. How does python resolve it"
      ],
      "metadata": {
        "id": "JAXO0k1xGkiM"
      },
      "execution_count": null,
      "outputs": []
    },
    {
      "cell_type": "markdown",
      "source": [
        "\n",
        "\n",
        "*\n",
        " Diamond Probem\n",
        "\n",
        "It refers to an ambiguity that arises when two classes Class2 and Class3 inherit from a superclass Class1 and class Class4 inherits from both Class2 and Class3. If there is a method “m” which is an overridden method in one of Class2 and Class3 or both then the ambiguity arises which of the method “m” Class4 should inherit\n",
        "\n"
      ],
      "metadata": {
        "id": "wGLeaUTmJq-o"
      }
    },
    {
      "cell_type": "code",
      "source": [
        "# Python Program to depict multiple inheritance\n",
        "# when method is overridden in both classes\n",
        "\n",
        "class Class1:\n",
        "    def m(self):\n",
        "        print(\"In Class1\")\n",
        "\n",
        "class Class2(Class1):\n",
        "    def m(self):\n",
        "        print(\"In Class2\")\n",
        "\n",
        "class Class3(Class1):\n",
        "    def m(self):\n",
        "        print(\"In Class3\")\n",
        "\n",
        "class Class4(Class2, Class3):\n",
        "    pass"
      ],
      "metadata": {
        "id": "kilCQkdYGkTd"
      },
      "execution_count": null,
      "outputs": []
    },
    {
      "cell_type": "code",
      "source": [
        "obj = Class4()\n",
        "obj.m()\n"
      ],
      "metadata": {
        "colab": {
          "base_uri": "https://localhost:8080/"
        },
        "id": "nSH6IYOKKQrX",
        "outputId": "bb410521-d077-4010-e6ce-d48422e71ff9"
      },
      "execution_count": null,
      "outputs": [
        {
          "output_type": "stream",
          "name": "stdout",
          "text": [
            "In Class2\n"
          ]
        }
      ]
    },
    {
      "cell_type": "code",
      "source": [
        "obj = Class4()\n",
        "obj.m()\n",
        "\n",
        "Class2.m(obj)\n",
        "Class3.m(obj)\n",
        "Class1.m(obj)"
      ],
      "metadata": {
        "colab": {
          "base_uri": "https://localhost:8080/"
        },
        "id": "4P5CBDbAKMw7",
        "outputId": "4ead37c1-6350-441a-e276-92a5fa6cdc9f"
      },
      "execution_count": null,
      "outputs": [
        {
          "output_type": "stream",
          "name": "stdout",
          "text": [
            "In Class2\n",
            "In Class2\n",
            "In Class3\n",
            "In Class1\n"
          ]
        }
      ]
    },
    {
      "cell_type": "markdown",
      "source": [
        "\n",
        "\n",
        "*   To address this issue, Python provides the super() function. At a basic level, super() is used to call methods in a superclass. In multiple inheritance scenarios, it ensures that the method in the base class gets executed only once.\n",
        "\n"
      ],
      "metadata": {
        "id": "gSzh_8_6OO5e"
      }
    },
    {
      "cell_type": "code",
      "source": [
        "#Question14: Write a class method that keeps track of the number of instances created from a class."
      ],
      "metadata": {
        "id": "xLPhoA_AKMsN"
      },
      "execution_count": null,
      "outputs": []
    },
    {
      "cell_type": "code",
      "source": [
        "class pwskills:\n",
        "\n",
        "    # this is used to print the number\n",
        "    # of instances of a class\n",
        "    counter = 0\n",
        "\n",
        "    # constructor of pwskills class\n",
        "    def __init__(self):\n",
        "\n",
        "        # increment\n",
        "        pwskills.counter += 1\n",
        "\n",
        "\n",
        "# object or instance of pwskills class\n",
        "g1 = pwskills()\n",
        "g2 = pwskills()\n",
        "g3 = pwskills()\n",
        "print(pwskills.counter)"
      ],
      "metadata": {
        "colab": {
          "base_uri": "https://localhost:8080/"
        },
        "id": "erDi6Dt6QruB",
        "outputId": "ab0814c4-83a3-468f-c870-505978a32421"
      },
      "execution_count": null,
      "outputs": [
        {
          "output_type": "stream",
          "name": "stdout",
          "text": [
            "3\n"
          ]
        }
      ]
    },
    {
      "cell_type": "code",
      "source": [
        "#Question15: Implement a static method in a class that checks if a given year is a leap year."
      ],
      "metadata": {
        "id": "3Ia7CxGcQrpu"
      },
      "execution_count": null,
      "outputs": []
    },
    {
      "cell_type": "code",
      "source": [
        "def check_year(year):\n",
        "    # Leap year condition:\n",
        "    # 1. If the year is divisible by 4 and not divisible by 100, or\n",
        "    # 2. If the year is divisible by 400.\n",
        "    if (year % 4 == 0 and year % 100 != 0) or (year % 400 == 0):\n",
        "        return True  # It's a leap year\n",
        "    else:\n",
        "        return False  # It's not a leap year\n",
        "\n",
        "year = 2000  # Sample input to test\n",
        "\n",
        "if check_year(year):\n",
        "    print(\"Leap Year\")\n",
        "else:\n",
        "    print(\"Not a Leap Year\")"
      ],
      "metadata": {
        "colab": {
          "base_uri": "https://localhost:8080/"
        },
        "id": "J3Y-sEd7Qrg8",
        "outputId": "25b80f55-761a-4699-8bc8-0188802eb2e6"
      },
      "execution_count": null,
      "outputs": [
        {
          "output_type": "stream",
          "name": "stdout",
          "text": [
            "Leap Year\n"
          ]
        }
      ]
    },
    {
      "cell_type": "code",
      "source": [],
      "metadata": {
        "id": "hVCStzPTUEwl"
      },
      "execution_count": 5,
      "outputs": []
    },
    {
      "cell_type": "code",
      "source": [],
      "metadata": {
        "id": "YaH0pN49jC1G"
      },
      "execution_count": 5,
      "outputs": []
    },
    {
      "cell_type": "code",
      "source": [
        "\n"
      ],
      "metadata": {
        "id": "xiuh_bZvjCwx"
      },
      "execution_count": 3,
      "outputs": []
    },
    {
      "cell_type": "code",
      "source": [],
      "metadata": {
        "id": "WrrFy7IXjCs4"
      },
      "execution_count": 5,
      "outputs": []
    },
    {
      "cell_type": "code",
      "source": [],
      "metadata": {
        "id": "Ruae25WZjCgN"
      },
      "execution_count": 5,
      "outputs": []
    },
    {
      "cell_type": "code",
      "source": [],
      "metadata": {
        "id": "4oq2CmmvjCZF"
      },
      "execution_count": null,
      "outputs": []
    },
    {
      "cell_type": "code",
      "source": [],
      "metadata": {
        "id": "JJoZqi_FjCUN"
      },
      "execution_count": null,
      "outputs": []
    }
  ]
}